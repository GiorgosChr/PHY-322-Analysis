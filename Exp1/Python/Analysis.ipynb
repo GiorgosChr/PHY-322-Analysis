{
 "cells": [
  {
   "cell_type": "code",
   "execution_count": 104,
   "metadata": {},
   "outputs": [],
   "source": [
    "import numpy as np\n",
    "from scipy.optimize import curve_fit\n",
    "import matplotlib.pyplot as plt\n",
    "plt.style.use('science')"
   ]
  },
  {
   "cell_type": "markdown",
   "metadata": {},
   "source": [
    "Ποσοστιαία Απόκλιση\n",
    "\n",
    "Σχετική απόκλιση\n",
    "\n",
    "Σχετικό σφάλμα\n",
    "\n",
    "(just in case)"
   ]
  },
  {
   "cell_type": "code",
   "execution_count": 105,
   "metadata": {},
   "outputs": [],
   "source": [
    "def perc_dev(x_theor, x_exp):\n",
    "\treturn abs(x_theor-x_exp)*100/x_theor\n",
    "\n",
    "def relative_dev(x_theor, x_exp, sigma):\n",
    "\treturn abs(x_theor-x_exp)/sigma\n",
    "\n",
    "def relative_error(x_exp, sigma):\n",
    "\treturn 100*sigma/x_exp"
   ]
  },
  {
   "cell_type": "markdown",
   "metadata": {},
   "source": [
    "\\begin{equation*}\n",
    "\tB = \\left(\\frac{4}{5}\\right)^{3/2}n\\mu_0 \\frac{I}{R}\n",
    "\\end{equation*}\n",
    "\n",
    "$$\\boxed{\\mu_0 = 1.257\\cdot 10^{-6}Tm/A\\; , \\; \\; n=130\\; , \\; R=150mm}$$"
   ]
  },
  {
   "cell_type": "markdown",
   "metadata": {},
   "source": [
    "B Fit function:\n",
    "\n",
    "$$B(I) = aI + b$$\n",
    "$$\\Downarrow$$"
   ]
  },
  {
   "cell_type": "code",
   "execution_count": 106,
   "metadata": {},
   "outputs": [],
   "source": [
    "def B_fit(x, a):\n",
    "\treturn a*x"
   ]
  },
  {
   "cell_type": "markdown",
   "metadata": {},
   "source": [
    "Read the b-field data from a .txt file\n",
    "\n",
    "Fit a linear function\n",
    "\n",
    "Plot both the data and the function"
   ]
  },
  {
   "cell_type": "code",
   "execution_count": 107,
   "metadata": {},
   "outputs": [
    {
     "name": "stdout",
     "output_type": "stream",
     "text": [
      "[0.76967791]\n",
      "[0.00294495]\n"
     ]
    },
    {
     "data": {
      "image/png": "[encoded data removed]",
      "text/plain": [
       "<Figure size 252x189 with 1 Axes>"
      ]
     },
     "metadata": {
      "needs_background": "light"
     },
     "output_type": "display_data"
    }
   ],
   "source": [
    "b_data = np.loadtxt('b_data.txt')\n",
    "x = b_data[:,0]\n",
    "y = b_data[:,2]\n",
    "x_error = b_data[:,1]\n",
    "y_error = b_data[:,3]\n",
    "\n",
    "\n",
    "\n",
    "popt, pcov = curve_fit(B_fit, x, y)\n",
    "\n",
    "print(popt)\n",
    "print(np.sqrt(np.diag(pcov)))\n",
    "\n",
    "range = np.linspace(np.min(x), np.max(x), 100)\n",
    "\n",
    "plt.title(r'B = f(I)')\n",
    "plt.xlabel(r'I [A]')\n",
    "plt.ylabel(r'B [mT]')\n",
    "plt.grid()\n",
    "plt.errorbar(x, y, y_error, x_error, 'bo')\n",
    "plt.plot(range, B_fit(range, *popt), 'r--')\n",
    "plt.legend(['Fit function', 'Exp. data'])\n",
    "plt.savefig('b_field.png', dpi=500)"
   ]
  },
  {
   "cell_type": "markdown",
   "metadata": {},
   "source": [
    "Therefore, the equation that describes the magnetic field is:\n",
    "\n",
    "$$B(I) = (0.767\\pm 0.006)\\cdot I + 0.002\\pm 0.003$$\n",
    "$$\\Downarrow$$\n",
    "$$B(I) = 0.767\\cdot I + 0.002$$\n",
    "$$\\Delta B(I) = 0.006\\cdot I + 0.003$$"
   ]
  },
  {
   "cell_type": "code",
   "execution_count": 108,
   "metadata": {},
   "outputs": [],
   "source": [
    "V_data = np.loadtxt('data.txt')\n",
    "V = V_data[:,0]\n",
    "V_error = V_data[:,1]\n",
    "Brav = V_data[:,2]/4\n",
    "Brav_error = V_data[:,3]/4"
   ]
  },
  {
   "cell_type": "code",
   "execution_count": 109,
   "metadata": {},
   "outputs": [],
   "source": [
    "def linear (x, a, b):\n",
    "\treturn a/2 *x + b"
   ]
  },
  {
   "cell_type": "code",
   "execution_count": 110,
   "metadata": {},
   "outputs": [
    {
     "name": "stdout",
     "output_type": "stream",
     "text": [
      "[ 15.44905523 113.77636583]\n",
      "[1.12978442 7.43568509]\n"
     ]
    }
   ],
   "source": [
    "popt1, pcov1 = curve_fit(linear, Brav, V)\n",
    "print(popt1)\n",
    "print(np.sqrt(np.diag(pcov1)))"
   ]
  },
  {
   "cell_type": "code",
   "execution_count": 111,
   "metadata": {},
   "outputs": [
    {
     "data": {
      "image/png": "[encoded data removed]",
      "text/plain": [
       "<Figure size 252x189 with 1 Axes>"
      ]
     },
     "metadata": {
      "needs_background": "light"
     },
     "output_type": "display_data"
    }
   ],
   "source": [
    "plt.errorbar(Brav, V, V_error, Brav_error, 'bo')\n",
    "plt.grid()\n",
    "x = np.linspace(np.min(Brav), np.max(Brav), 100)\n",
    "plt.plot(x, linear(x, *popt1), 'r--')\n",
    "plt.ylabel(r'V[V]')\n",
    "plt.xlabel(r'$<(Br)^2>, [cm^2\\cdot mT^2]$')\n",
    "plt.title(r'$V = f(<(Br)^2>)$')\n",
    "plt.legend(['Fit Function', 'Exp. data'])\n",
    "plt.savefig('v_br.png', dpi=500)"
   ]
  },
  {
   "cell_type": "code",
   "execution_count": 112,
   "metadata": {},
   "outputs": [
    {
     "name": "stdout",
     "output_type": "stream",
     "text": [
      "12.121415097716191\n",
      "1.886151666789793\n",
      "7.312967733927498\n"
     ]
    }
   ],
   "source": [
    "print(perc_dev(1.758*10**11, popt1[0]*10**10))\n",
    "print(relative_dev(1.758*10**11, popt1[0]*10**10,np.sqrt(np.diag(pcov1))[0]*10**10))\n",
    "print(relative_error(popt1[0]*10**10,np.sqrt(np.diag(pcov1))[0]*10**10))"
   ]
  },
  {
   "cell_type": "code",
   "execution_count": null,
   "metadata": {},
   "outputs": [],
   "source": []
  }
 ],
 "metadata": {
  "interpreter": {
   "hash": "31f2aee4e71d21fbe5cf8b01ff0e069b9275f58929596ceb00d14d90e3e16cd6"
  },
  "kernelspec": {
   "display_name": "Python 3.8.10 64-bit",
   "language": "python",
   "name": "python3"
  },
  "language_info": {
   "codemirror_mode": {
    "name": "ipython",
    "version": 3
   },
   "file_extension": ".py",
   "mimetype": "text/x-python",
   "name": "python",
   "nbconvert_exporter": "python",
   "pygments_lexer": "ipython3",
   "version": "3.8.10"
  },
  "orig_nbformat": 4
 },
 "nbformat": 4,
 "nbformat_minor": 2
}
