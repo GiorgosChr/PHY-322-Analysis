{
 "cells": [
  {
   "cell_type": "code",
   "execution_count": 38,
   "metadata": {},
   "outputs": [],
   "source": [
    "#Import the necessary packages\n",
    "\n",
    "import numpy as np\n",
    "\n",
    "\n",
    "import matplotlib.pyplot as plt\n",
    "#How to plot a histogram \n",
    "#https://matplotlib.org/stable/api/_as_gen/matplotlib.pyplot.hist.html\n",
    "#https://stackoverflow.com/questions/7805552/fitting-a-histogram-with-python\n",
    "#https://www.geeksforgeeks.org/matplotlib-pyplot-hist-in-python\n",
    "#https://stackoverflow.com/questions/33203645/how-to-plot-a-histogram-using-matplotlib-in-python-with-a-list-of-data\n",
    "plt.style.use('science')\n",
    "#https://github.com/garrettj403/SciencePlots\n",
    "\n",
    "\n",
    "from scipy.optimize import curve_fit\n",
    "from scipy.stats import norm #In order to fit a gaussian distribution to the histogram  (mu, sigma) = norm.fit(data)"
   ]
  },
  {
   "cell_type": "markdown",
   "metadata": {},
   "source": [
    "The Gaussian distribution is described by:\n",
    "\n",
    "$$\\huge f(x) = \\frac{1}{\\sigma \\sqrt{2\\pi}}e^{-\\frac{(x-\\mu)^2}{2\\sigma^2}}$$\n",
    "\n",
    "where:\n",
    "\n",
    "$$\\huge \\sigma = \\sqrt{\\mu}$$\n",
    "\n",
    "Therefore we create a function gauss that returns the normalized gaussian distribution:"
   ]
  },
  {
   "cell_type": "code",
   "execution_count": 39,
   "metadata": {},
   "outputs": [],
   "source": [
    "def gauss (x, mu, sigma):\n",
    "\treturn 1/(sigma*np.sqrt(2*np.pi))*np.exp(-(x-mu)**2/(2*sigma**2))"
   ]
  },
  {
   "cell_type": "markdown",
   "metadata": {},
   "source": [
    "we define a linear function to fit to the plateau of the efficiency plot:"
   ]
  },
  {
   "cell_type": "code",
   "execution_count": 40,
   "metadata": {},
   "outputs": [],
   "source": [
    "def linear (x, a, b):\n",
    "\treturn a*x + b"
   ]
  },
  {
   "cell_type": "markdown",
   "metadata": {},
   "source": [
    "Efficiency vs Voltage Plot for $\\large^{60}Co$\n",
    "\n",
    "The efficiency is defined as the ratio of the number of particles detected to the number of particles that fall onto the detector.\n",
    "\n",
    "Since the distance between the detector and te source is constant, the efficiency of the detector is proportional to the number of particles detected."
   ]
  },
  {
   "cell_type": "code",
   "execution_count": 41,
   "metadata": {},
   "outputs": [
    {
     "name": "stdout",
     "output_type": "stream",
     "text": [
      "[  3.22199998 647.53334828]\n",
      "[  0.31429345 283.59071132]\n"
     ]
    },
    {
     "data": {
      "image/png": "[encoded data removed]",
      "text/plain": [
       "<Figure size 252x189 with 1 Axes>"
      ]
     },
     "metadata": {
      "needs_background": "light"
     },
     "output_type": "display_data"
    }
   ],
   "source": [
    "efficiency_data_co = np.loadtxt('data_co60.txt')\n",
    "\n",
    "volts = efficiency_data_co[:,0]\n",
    "counts = efficiency_data_co[:,1]\n",
    "counts_error = np.sqrt(counts)\n",
    "\t\n",
    "\n",
    "\n",
    "#Linear fit to the plateau of the efficiency\n",
    "fit_data = np.loadtxt('co_fit.txt')\n",
    "xaxis = fit_data[:, 0]\n",
    "yaxis = fit_data[:, 1]\n",
    "popt, pcov = curve_fit(linear, xaxis, yaxis, p0=(1000, 10))\n",
    "print(popt)\n",
    "print(np.sqrt(np.diag(pcov)))\n",
    "x = np.linspace(np.min(xaxis), np.max(xaxis), 10000)\n",
    "\n",
    "plt.errorbar(xaxis, yaxis, np.sqrt(yaxis), xaxis*0, 'bo')\n",
    "plt.plot(x, linear(x, *popt), 'r--')\n",
    "plt.grid()\n",
    "plt.title('Plateau Fit $^{60}Co$')\n",
    "plt.ylabel('Efficiency')\n",
    "plt.xlabel('Voltage V')\n",
    "plt.legend(['Fit function', 'Plateau data'])\n",
    "plt.savefig('plateau-co.png', dpi=500)\n"
   ]
  },
  {
   "cell_type": "code",
   "execution_count": 42,
   "metadata": {},
   "outputs": [
    {
     "data": {
      "image/png": "[encoded data removed]",
      "text/plain": [
       "<Figure size 252x189 with 1 Axes>"
      ]
     },
     "metadata": {
      "needs_background": "light"
     },
     "output_type": "display_data"
    }
   ],
   "source": [
    "\n",
    "\n",
    "#Plot both the experimental data and the fit function.\n",
    "\n",
    "plt.errorbar(volts, counts, counts_error, volts*0, 'bo', markersize=3)\n",
    "#plt.plot(x, linear(x, *popt), 'r--')\n",
    "plt.title('Efficiency of G-M with $^{60}Co$')\n",
    "plt.xlabel('Voltage V')\n",
    "plt.ylabel('Efficiency')\n",
    "plt.grid()\n",
    "plt.legend(['Experimental data'])\n",
    "plt.savefig('efficiency_co.png', dpi=500)"
   ]
  },
  {
   "cell_type": "markdown",
   "metadata": {},
   "source": [
    "Efficiency vs Voltage Plot for $\\large^{90}Sr$"
   ]
  },
  {
   "cell_type": "code",
   "execution_count": 43,
   "metadata": {},
   "outputs": [
    {
     "name": "stdout",
     "output_type": "stream",
     "text": [
      "[    8.42466666 -1690.75555556]\n",
      "[  0.51700016 466.495369  ]\n"
     ]
    },
    {
     "data": {
      "image/png": "[encoded data removed]",
      "text/plain": [
       "<Figure size 252x189 with 1 Axes>"
      ]
     },
     "metadata": {
      "needs_background": "light"
     },
     "output_type": "display_data"
    }
   ],
   "source": [
    "efficiency_data_sr = np.loadtxt('data_sr90.txt')\n",
    "\n",
    "volts = efficiency_data_sr[:,0]\n",
    "counts = efficiency_data_sr[:,1]\n",
    "counts_error = np.sqrt(counts)\n",
    "\n",
    "\n",
    "fit_data = np.loadtxt('sr_fit.txt')\n",
    "xaxis = fit_data[:, 0]\n",
    "yaxis = fit_data[:, 1]\n",
    "popt, pcov = curve_fit(linear, xaxis, yaxis, p0=(1000, 10))\n",
    "print(popt)\n",
    "print(np.sqrt(np.diag(pcov)))\n",
    "\n",
    "x = np.linspace(np.min(xaxis), np.max(xaxis), 10000)\n",
    "\n",
    "plt.errorbar(xaxis, yaxis, np.sqrt(yaxis), xaxis*0, 'bo')\n",
    "plt.plot(x, linear(x, *popt), 'r--')\n",
    "plt.grid()\n",
    "plt.title('Plateau Fit $^{90}Sr$')\n",
    "plt.ylabel('Efficiency')\n",
    "plt.xlabel('Voltage V')\n",
    "plt.legend(['Fit function', 'Plateau data'])\n",
    "plt.savefig('plateau-sr.png', dpi=500)"
   ]
  },
  {
   "cell_type": "code",
   "execution_count": 44,
   "metadata": {},
   "outputs": [
    {
     "data": {
      "image/png": "[encoded data removed]",
      "text/plain": [
       "<Figure size 252x189 with 1 Axes>"
      ]
     },
     "metadata": {
      "needs_background": "light"
     },
     "output_type": "display_data"
    }
   ],
   "source": [
    "\n",
    "\n",
    "plt.errorbar(volts, counts, counts_error, volts*0, 'bo', markersize=3)\n",
    "plt.title('Efficiency of G-M with $^{90}Sr$')\n",
    "#plt.plot(x, linear(x, *popt), 'r--')\n",
    "plt.xlabel('Voltage V')\n",
    "plt.ylabel('Efficiency')\n",
    "plt.grid()\n",
    "plt.legend(['Experimental data'])\n",
    "plt.savefig('efficiency_sr.png', dpi=500)"
   ]
  },
  {
   "cell_type": "markdown",
   "metadata": {},
   "source": [
    "The distribution of the counts measured in a specific time period follows a gaussian distribution.\n",
    "\n",
    "Therefore, we can fit a gaussian function to the normalized histogram"
   ]
  },
  {
   "cell_type": "code",
   "execution_count": 53,
   "metadata": {},
   "outputs": [
    {
     "name": "stdout",
     "output_type": "stream",
     "text": [
      "μ =  1748.0\n",
      "σ =  46.0\n",
      "sqrt(μ+1) =  42.0\n"
     ]
    },
    {
     "data": {
      "image/png": "[encoded data removed]",
      "text/plain": [
       "<Figure size 252x189 with 1 Axes>"
      ]
     },
     "metadata": {
      "needs_background": "light"
     },
     "output_type": "display_data"
    }
   ],
   "source": [
    "distribution = np.loadtxt('co_distribution.txt')\n",
    "mu, sigma = norm.fit(distribution)\n",
    "print(\"μ = \", np.round(mu,0))\n",
    "print(\"σ = \", np.round(sigma,0))\n",
    "print(\"sqrt(μ+1) = \", np.round(np.sqrt(mu+1),0))\n",
    "min = np.min(distribution)\n",
    "max = np.max(distribution)\n",
    "bin = int((max-min)/10)\n",
    "x = np.linspace(min , max, 10000)\n",
    "\n",
    "plt.hist(distribution, bin, density=True, color='Blue')\n",
    "plt.plot(x, gauss(x, mu, sigma), 'r--')\n",
    "plt.grid()\n",
    "plt.title('$^{60}Co$ Normalized Histogram, $V = 900V$')\n",
    "plt.xlabel('Counts')\n",
    "plt.ylabel('Frequency')\n",
    "plt.text(1600, 0.01, '$\\mu = 1748$')\n",
    "plt.text(1600, 0.0075, '$\\sigma = 46$')\n",
    "plt.legend(['Fitted dist.', 'Exp. data'])\n",
    "plt.savefig('histogram_normalized.png', dpi=500)"
   ]
  },
  {
   "cell_type": "code",
   "execution_count": 54,
   "metadata": {},
   "outputs": [
    {
     "data": {
      "image/png": "[encoded data removed]",
      "text/plain": [
       "<Figure size 252x189 with 1 Axes>"
      ]
     },
     "metadata": {
      "needs_background": "light"
     },
     "output_type": "display_data"
    }
   ],
   "source": [
    "plt.hist(distribution, bin, density=False, color='Blue')\n",
    "plt.grid()\n",
    "plt.title('$^{60}Co$ Histogram, $V = 900V$')\n",
    "plt.xlabel('Counts')\n",
    "plt.ylabel('Frequency')\n",
    "plt.savefig('histogram.png', dpi=500)"
   ]
  },
  {
   "cell_type": "markdown",
   "metadata": {},
   "source": [
    "The radiation intensity passing through a medium is described by:\n",
    "\n",
    "$$\\Large I(\\chi ) = I_0 e^{-\\mu \\chi}$$\n",
    "\n",
    "We create an exponential function to fit to the intensity data for each $\\chi$"
   ]
  },
  {
   "cell_type": "code",
   "execution_count": 47,
   "metadata": {},
   "outputs": [],
   "source": [
    "def intensity (x, a, b):\n",
    "\treturn a*np.exp(-b*x)"
   ]
  },
  {
   "cell_type": "markdown",
   "metadata": {},
   "source": [
    "$$\\huge Fe$$"
   ]
  },
  {
   "cell_type": "code",
   "execution_count": 48,
   "metadata": {},
   "outputs": [
    {
     "name": "stdout",
     "output_type": "stream",
     "text": [
      "[85.40225746  0.35752538]\n",
      "[11.47396552  0.02686757]\n"
     ]
    },
    {
     "data": {
      "image/png": "[encoded data removed]",
      "text/plain": [
       "<Figure size 252x189 with 1 Axes>"
      ]
     },
     "metadata": {
      "needs_background": "light"
     },
     "output_type": "display_data"
    }
   ],
   "source": [
    "fe_data = np.loadtxt('fe_rate.txt')\n",
    "al_data = np.loadtxt('al_rate.txt')\n",
    "pb_data = np.loadtxt('pb_rate.txt')\n",
    "\n",
    "x_fe = fe_data[:,0]\n",
    "I_fe = fe_data[:,1]\n",
    "\n",
    "popt, pcov = curve_fit(intensity, x_fe, I_fe, p0=(11, 0.1))\n",
    "print(popt)\n",
    "print(np.sqrt(np.diag(pcov)))\n",
    "x = np.linspace(np.min(x_fe), np.max(x_fe), 10000)\n",
    "plt.errorbar(x_fe, I_fe, I_fe*0, I_fe*0, 'bo')\n",
    "plt.plot(x, intensity(x, *popt), 'r--')\n",
    "plt.grid()\n",
    "plt.title('$I = f(\\chi ), Fe$')\n",
    "plt.xlabel('$\\chi \\dfrac{gr}{cm^2}$')\n",
    "plt.ylabel('$I \\dfrac{counts}{sec}$')\n",
    "plt.legend(['Fit function', 'Experimental Data'])\n",
    "plt.savefig('intensity_fe.png', dpi=500)\n",
    "\n",
    "plt.semilogy()\n",
    "plt.savefig('intensity_fe_log.png', dpi=500)"
   ]
  },
  {
   "cell_type": "markdown",
   "metadata": {},
   "source": [
    "$$\\huge Al$$"
   ]
  },
  {
   "cell_type": "code",
   "execution_count": 49,
   "metadata": {},
   "outputs": [
    {
     "name": "stdout",
     "output_type": "stream",
     "text": [
      "[21.03869443  0.17633903]\n",
      "[7.45965131 0.07361563]\n"
     ]
    },
    {
     "data": {
      "image/png": "[encoded data removed]",
      "text/plain": [
       "<Figure size 252x189 with 1 Axes>"
      ]
     },
     "metadata": {
      "needs_background": "light"
     },
     "output_type": "display_data"
    }
   ],
   "source": [
    "x_al = al_data[:,0]\n",
    "I_al = al_data[:,1]\n",
    "\n",
    "popt, pcov = curve_fit(intensity, x_al, I_al, p0=(11, 0.1))\n",
    "print(popt)\n",
    "print(np.sqrt(np.diag(pcov)))\n",
    "x = np.linspace(np.min(x_al), np.max(x_al), 10000)\n",
    "plt.errorbar(x_al, I_al, I_al*0, I_al*0, 'bo')\n",
    "plt.plot(x, intensity(x, *popt), 'r--')\n",
    "plt.grid()\n",
    "plt.title('$I = f(\\chi ), Al$')\n",
    "plt.xlabel('$\\chi \\dfrac{gr}{cm^2}$')\n",
    "plt.ylabel('$I \\dfrac{counts}{sec}$')\n",
    "plt.legend(['Fit function', 'Experimental Data'])\n",
    "plt.savefig('intensity_al.png', dpi=500)\n",
    "\n",
    "plt.semilogy()\n",
    "plt.savefig('intensity_al_log.png', dpi=500)"
   ]
  },
  {
   "cell_type": "markdown",
   "metadata": {},
   "source": [
    "$$\\huge Pb$$"
   ]
  },
  {
   "cell_type": "code",
   "execution_count": 50,
   "metadata": {},
   "outputs": [
    {
     "name": "stdout",
     "output_type": "stream",
     "text": [
      "[83.03144537  0.3658019 ]\n",
      "[11.56581467  0.02100933]\n"
     ]
    },
    {
     "data": {
      "image/png": "[encoded data removed]",
      "text/plain": [
       "<Figure size 252x189 with 1 Axes>"
      ]
     },
     "metadata": {
      "needs_background": "light"
     },
     "output_type": "display_data"
    }
   ],
   "source": [
    "x_pb = pb_data[:,0]\n",
    "I_pb = pb_data[:,1]\n",
    "\n",
    "popt, pcov = curve_fit(intensity, x_pb, I_pb, p0=(11, 0.1))\n",
    "print(popt)\n",
    "print(np.sqrt(np.diag(pcov)))\n",
    "x = np.linspace(np.min(x_pb), np.max(x_pb), 10000)\n",
    "plt.errorbar(x_pb, I_pb, I_pb*0, I_pb*0, 'bo')\n",
    "plt.plot(x, intensity(x, *popt), 'r--')\n",
    "plt.grid()\n",
    "plt.title('$I = f(\\chi ), Pb$')\n",
    "plt.xlabel('$\\chi \\dfrac{gr}{cm^2}$')\n",
    "plt.ylabel('$I \\dfrac{counts}{sec}$')\n",
    "plt.legend(['Fit function', 'Experimental Data'])\n",
    "plt.savefig('intensity_pb.png', dpi=500)\n",
    "\n",
    "plt.semilogy()\n",
    "plt.savefig('intensity_pb_log.png', dpi=500)"
   ]
  }
 ],
 "metadata": {
  "interpreter": {
   "hash": "31f2aee4e71d21fbe5cf8b01ff0e069b9275f58929596ceb00d14d90e3e16cd6"
  },
  "kernelspec": {
   "display_name": "Python 3.8.10 64-bit",
   "language": "python",
   "name": "python3"
  },
  "language_info": {
   "codemirror_mode": {
    "name": "ipython",
    "version": 3
   },
   "file_extension": ".py",
   "mimetype": "text/x-python",
   "name": "python",
   "nbconvert_exporter": "python",
   "pygments_lexer": "ipython3",
   "version": "3.8.10"
  },
  "orig_nbformat": 4
 },
 "nbformat": 4,
 "nbformat_minor": 2
}
