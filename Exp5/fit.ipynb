{
 "cells": [
  {
   "cell_type": "code",
   "execution_count": 1,
   "source": [
    "import numpy as np\n",
    "from scipy.optimize import curve_fit\n",
    "import matplotlib.pyplot as plt"
   ],
   "outputs": [],
   "metadata": {}
  },
  {
   "cell_type": "code",
   "execution_count": 2,
   "source": [
    "energydata = np.loadtxt(\"energy.data\")\n",
    "\n",
    "x = energydata[:,0]\n",
    "y = energydata[:,1]\n",
    "ey = energydata[:,2]\n",
    "ex = 0*energydata[:,2]\n",
    "\n"
   ],
   "outputs": [],
   "metadata": {}
  },
  {
   "cell_type": "code",
   "execution_count": 3,
   "source": [
    "def fit1 (x, a, b):\n",
    "\treturn a*3/4*(x-1)**2 + b"
   ],
   "outputs": [],
   "metadata": {}
  },
  {
   "cell_type": "code",
   "execution_count": 4,
   "source": [
    "def fit2 (x, a, b):\n",
    "\tdata = (x-1)**2\n",
    "\treturn a*3/4*data + b"
   ],
   "outputs": [],
   "metadata": {}
  },
  {
   "cell_type": "code",
   "execution_count": 5,
   "source": [
    "popt1, pcov1 = curve_fit(fit1, x, y, p0=(13.6*10**(-3), 0))\n",
    "popt2, pcov1 = curve_fit(fit2, x, y, p0=(13.6*10**(-3), 0))"
   ],
   "outputs": [],
   "metadata": {}
  },
  {
   "cell_type": "code",
   "execution_count": 6,
   "source": [
    "print(popt1*10**3)\n",
    "print(np.sqrt(np.diag(pcov1))*10**3)"
   ],
   "outputs": [
    {
     "output_type": "stream",
     "name": "stdout",
     "text": [
      "[ 13.21561282 850.38474707]\n",
      "[5.10667982e-01 8.67302674e+02]\n"
     ]
    }
   ],
   "metadata": {}
  },
  {
   "cell_type": "code",
   "execution_count": 7,
   "source": [
    "th = np.linspace(37, 57, 1000)\n",
    "plt.errorbar((x-1)**2, y, ey, ex, 'bo')\n",
    "plt.plot((th-1)**2, fit1(th, *popt1), 'r--')\n",
    "plt.grid()\n",
    "\n",
    "plt.xlabel(r'$(z-1)^2$')\n",
    "plt.ylabel(r'$E_{K\\alpha} (KeV)$')\n",
    "plt.title(r'$E_{K\\alpha} = f\\left((z-1)^2\\right)$')\n",
    "plt.legend(['Fit Function', 'Experimental Data'])\n",
    "plt.savefig('energyplot.png', dpi=500)"
   ],
   "outputs": [
    {
     "output_type": "display_data",
     "data": {
      "image/png": "[encoded data removed]",
      "text/plain": [
       "<Figure size 432x288 with 1 Axes>"
      ]
     },
     "metadata": {
      "needs_background": "light"
     }
    }
   ],
   "metadata": {}
  },
  {
   "cell_type": "code",
   "execution_count": 8,
   "source": [
    "ryd_exp = 13.2\n",
    "ryd_sf=0.5\n",
    "ryd_theor = 13.6\n",
    "print('Πειραματική τιμή σταθεράς Rydberg = ', ryd_exp, '+\\-', ryd_sf)\n",
    "print('Θεωρητική τιμή σταθεράς Rydberg = ', ryd_theor)\n",
    "print('Ποσοστιαία απόκλιση από την θεωρητική τιμή = ', np.abs(ryd_theor-ryd_exp)/ryd_theor*100, '%')\n",
    "print('Σχετική απόκλιση από την θεωρητική τιμή = ', np.abs(ryd_theor-ryd_exp)/ryd_sf, 'σ')\n",
    "print('Σχετικό σφάλμα πειραματικής τιμής = ', ryd_sf/ryd_exp*100, '%')"
   ],
   "outputs": [
    {
     "output_type": "stream",
     "name": "stdout",
     "text": [
      "Πειραματική τιμή σταθεράς Rydberg =  13.2 +\\- 0.5\n",
      "Θεωρητική τιμή σταθεράς Rydberg =  13.6\n",
      "Ποσοστιαία απόκλιση από την θεωρητική τιμή =  2.941176470588238 %\n",
      "Σχετική απόκλιση από την θεωρητική τιμή =  0.8000000000000007 σ\n",
      "Σχετικό σφάλμα πειραματικής τιμής =  3.787878787878788 %\n"
     ]
    }
   ],
   "metadata": {}
  },
  {
   "cell_type": "code",
   "execution_count": 12,
   "source": [
    "print(10**-3 * popt1)\n",
    "print(10**-3 * np.sqrt(np.diag(pcov1)))\n"
   ],
   "outputs": [
    {
     "output_type": "stream",
     "name": "stdout",
     "text": [
      "[1.32156128e-05 8.50384747e-04]\n",
      "[5.10667982e-07 8.67302674e-04]\n"
     ]
    }
   ],
   "metadata": {}
  },
  {
   "cell_type": "code",
   "execution_count": null,
   "source": [],
   "outputs": [],
   "metadata": {}
  }
 ],
 "metadata": {
  "orig_nbformat": 4,
  "language_info": {
   "name": "python",
   "version": "3.8.10",
   "mimetype": "text/x-python",
   "codemirror_mode": {
    "name": "ipython",
    "version": 3
   },
   "pygments_lexer": "ipython3",
   "nbconvert_exporter": "python",
   "file_extension": ".py"
  },
  "kernelspec": {
   "name": "python3",
   "display_name": "Python 3.8.10 64-bit"
  },
  "interpreter": {
   "hash": "31f2aee4e71d21fbe5cf8b01ff0e069b9275f58929596ceb00d14d90e3e16cd6"
  }
 },
 "nbformat": 4,
 "nbformat_minor": 2
}