{
 "cells": [
  {
   "cell_type": "code",
   "execution_count": 2,
   "metadata": {},
   "outputs": [],
   "source": [
    "import numpy as np\n",
    "import matplotlib.pyplot as plt\n",
    "from scipy.optimize import curve_fit\n",
    "\n",
    "plt.style.use('science')"
   ]
  },
  {
   "cell_type": "code",
   "execution_count": 3,
   "metadata": {},
   "outputs": [],
   "source": [
    "def perc_dev(x_theor, x_exp):\n",
    "\treturn abs(x_theor-x_exp)*100/x_theor\n",
    "\n",
    "def relative_dev(x_theor, x_exp, sigma):\n",
    "\treturn abs(x_theor-x_exp)/sigma\n",
    "\n",
    "def relative_error(x_exp, sigma):\n",
    "\treturn 100*sigma/x_exp"
   ]
  },
  {
   "cell_type": "markdown",
   "metadata": {},
   "source": [
    "# Magnetic Field Calibration"
   ]
  },
  {
   "cell_type": "code",
   "execution_count": 4,
   "metadata": {},
   "outputs": [],
   "source": [
    "calibration_data = np.loadtxt('b_calibration.txt')\n",
    "x = calibration_data[:,0]\n",
    "x_error = x * 0 +0.05\n",
    "y = calibration_data[:,1]\n",
    "y_error = y * 0 + 5"
   ]
  },
  {
   "cell_type": "code",
   "execution_count": 5,
   "metadata": {},
   "outputs": [],
   "source": [
    "def b_cal (x, a, b):\n",
    "        return a * x + b"
   ]
  },
  {
   "cell_type": "markdown",
   "metadata": {},
   "source": [
    "# Fit and Plot"
   ]
  },
  {
   "cell_type": "code",
   "execution_count": 6,
   "metadata": {},
   "outputs": [
    {
     "name": "stdout",
     "output_type": "stream",
     "text": [
      "[57.63567351  4.12987919]\n",
      "[0.79518263 5.01527269]\n"
     ]
    },
    {
     "data": {
      "image/png": "[encoded data removed]",
      "text/plain": [
       "<Figure size 252x189 with 1 Axes>"
      ]
     },
     "metadata": {
      "needs_background": "light"
     },
     "output_type": "display_data"
    }
   ],
   "source": [
    "popt, pcov = curve_fit(b_cal, x, y, sigma=y_error)\n",
    "\n",
    "print(popt)\n",
    "print(np.sqrt(np.diag(pcov)))\n",
    "\n",
    "t = np.linspace(np.min(x), np.max(x), 100)\n",
    "\n",
    "plt.plot(t, b_cal(t, *popt), 'r--')\n",
    "plt.errorbar(x, y, y_error, x_error, 'bo')\n",
    "plt.title(r'Magnetic Field Calibration, B = f(I)')\n",
    "plt.ylabel(r'$B [mT]$')\n",
    "plt.xlabel(r'$I [A]$')\n",
    "plt.grid()\n",
    "plt.legend(['Calibrated m. field', 'Exp. data'])\n",
    "plt.savefig('b_calibration.png', dpi=500)"
   ]
  },
  {
   "cell_type": "markdown",
   "metadata": {},
   "source": [
    "# Διαμήκες Φαινόμενο Zeemann"
   ]
  },
  {
   "cell_type": "code",
   "execution_count": 7,
   "metadata": {},
   "outputs": [],
   "source": [
    "diamikes_data = np.loadtxt('diamikes.txt')\n",
    "\n",
    "I = diamikes_data[:,0]\n",
    "B = b_cal(I, *popt)*10**(-3)\n",
    "I_error = diamikes_data[:,1]\n",
    "B_error = b_cal(I_error, *np.sqrt(np.diag(pcov)))*10**(-3)\n",
    "\n",
    "E = diamikes_data[:,2]*6.24*10**(18)\n",
    "E_error = diamikes_data[:,3]*6.24*10**(18)"
   ]
  },
  {
   "cell_type": "code",
   "execution_count": 8,
   "metadata": {},
   "outputs": [],
   "source": [
    "def de (x, a, b):\n",
    "        return a * x + b"
   ]
  },
  {
   "cell_type": "code",
   "execution_count": 9,
   "metadata": {},
   "outputs": [
    {
     "name": "stdout",
     "output_type": "stream",
     "text": [
      "[2.98022125e-05 1.90647625e-05]\n",
      "[9.74958536e-06 4.43964084e-06]\n",
      "49 1\n",
      "2.9\n",
      "32.7\n"
     ]
    },
    {
     "data": {
      "image/png": "[encoded data removed]",
      "text/plain": [
       "<Figure size 252x189 with 1 Axes>"
      ]
     },
     "metadata": {
      "needs_background": "light"
     },
     "output_type": "display_data"
    }
   ],
   "source": [
    "popt1, pcov1 = curve_fit(de, B, E, sigma=E_error, p0=(6*10**(-5), 0))\n",
    "print(popt1)\n",
    "print(np.sqrt(np.diag(pcov1)))\n",
    "\n",
    "\n",
    "t = np.linspace(np.min(B), np.max(B), 100)\n",
    "\n",
    "plt.plot(t, de(t, *popt1), 'r--')\n",
    "plt.errorbar(B, E, E_error, B_error, 'bo')\n",
    "plt.grid()\n",
    "plt.title(r'$\\Delta E = f(B)$')\n",
    "plt.xlabel(r'$B [T]$')\n",
    "plt.ylabel(r'$\\Delta E [eV]$')\n",
    "plt.legend(['Fit function', 'Exp. data'])\n",
    "plt.savefig('diamikes.png', dpi=500)\n",
    "\n",
    "\n",
    "\n",
    "mu = 5.79*10**(-5)\n",
    "\n",
    "print(round(perc_dev(mu, popt1[0])),1)\n",
    "print(round(relative_dev(mu, popt1[0], np.sqrt(np.diag(pcov1))[0]),1))\n",
    "print(round(relative_error(popt1[0], np.sqrt(np.diag(pcov1))[0]), 1))"
   ]
  },
  {
   "cell_type": "markdown",
   "metadata": {},
   "source": [
    "# Εγκάρσιο Φαινόμενο Zeemann"
   ]
  },
  {
   "cell_type": "code",
   "execution_count": 15,
   "metadata": {},
   "outputs": [
    {
     "name": "stdout",
     "output_type": "stream",
     "text": [
      "[4.58851648e-05 5.26442977e-05]\n",
      "[2.44904966e-05 1.09337152e-05]\n",
      "21 1\n",
      "0.5\n",
      "53.4\n"
     ]
    },
    {
     "data": {
      "image/png": "[encoded data removed]",
      "text/plain": [
       "<Figure size 252x189 with 1 Axes>"
      ]
     },
     "metadata": {
      "needs_background": "light"
     },
     "output_type": "display_data"
    }
   ],
   "source": [
    "egkarsio_data = np.loadtxt('egkarsio.txt')\n",
    "\n",
    "I = egkarsio_data[:,0]\n",
    "B = b_cal(I, *popt)*10**(-3)\n",
    "I_error = egkarsio_data[:,1]\n",
    "B_error = b_cal(I_error, *np.sqrt(np.diag(pcov)))*10**(-3)\n",
    "\n",
    "E = egkarsio_data[:,2]*6.24*10**(18)\n",
    "E_error = egkarsio_data[:,3]*6.24*10**(18)\n",
    "\n",
    "\n",
    "popt2, pcov2 = curve_fit(de, B, E, sigma=E_error, p0=(6*10**(-5), 0))\n",
    "print(popt2)\n",
    "print(np.sqrt(np.diag(pcov2)))\n",
    "\n",
    "\n",
    "t = np.linspace(np.min(B), np.max(B), 100)\n",
    "\n",
    "plt.plot(t, de(t, *popt2), 'r--')\n",
    "plt.errorbar(B, E, E_error, B_error, 'bo')\n",
    "plt.grid()\n",
    "plt.title(r'$\\Delta E = f(B)$')\n",
    "plt.xlabel(r'$B [T]$')\n",
    "plt.ylabel(r'$\\Delta E [eV]$')\n",
    "plt.legend(['Fit function', 'Exp. data'])\n",
    "plt.savefig('egkarsio.png', dpi=500)\n",
    "\n",
    "\n",
    "\n",
    "mu = 5.79*10**(-5)\n",
    "\n",
    "print(round(perc_dev(mu, popt2[0])),1)\n",
    "print(round(relative_dev(mu, popt2[0], np.sqrt(np.diag(pcov2))[0]),1))\n",
    "print(round(relative_error(popt2[0], np.sqrt(np.diag(pcov2))[0]), 1))"
   ]
  },
  {
   "cell_type": "code",
   "execution_count": null,
   "metadata": {},
   "outputs": [],
   "source": []
  }
 ],
 "metadata": {
  "interpreter": {
   "hash": "916dbcbb3f70747c44a77c7bcd40155683ae19c65e1c03b4aa3499c5328201f1"
  },
  "kernelspec": {
   "display_name": "Python 3.8.10 64-bit",
   "language": "python",
   "name": "python3"
  },
  "language_info": {
   "codemirror_mode": {
    "name": "ipython",
    "version": 3
   },
   "file_extension": ".py",
   "mimetype": "text/x-python",
   "name": "python",
   "nbconvert_exporter": "python",
   "pygments_lexer": "ipython3",
   "version": "3.8.10"
  },
  "orig_nbformat": 4
 },
 "nbformat": 4,
 "nbformat_minor": 2
}
