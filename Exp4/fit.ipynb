{
 "cells": [
  {
   "cell_type": "code",
   "execution_count": 1,
   "source": [
    "import numpy as np\n",
    "import matplotlib.pyplot as plt\n",
    "from scipy.optimize import curve_fit"
   ],
   "outputs": [],
   "metadata": {}
  },
  {
   "cell_type": "code",
   "execution_count": 2,
   "source": [
    "energydata = np.loadtxt('energy.data')\n",
    "\n",
    "x = energydata[:,0]\n",
    "ex = energydata[:,1]\n",
    "x = x*np.pi/180\n",
    "y = energydata[:,2]\n",
    "ey = energydata[:,3]"
   ],
   "outputs": [],
   "metadata": {}
  },
  {
   "cell_type": "code",
   "execution_count": 3,
   "source": [
    "def fitfunc (x, Eg, e, c):\n",
    "\treturn Eg /(1+e*(1-np.cos(x))) + c"
   ],
   "outputs": [],
   "metadata": {}
  },
  {
   "cell_type": "code",
   "execution_count": 4,
   "source": [
    "popt1, pcov1 = curve_fit(fitfunc, x, y, p0=(662, 1.29, 0))\n",
    "popt1, np.sqrt(np.diag(pcov1))"
   ],
   "outputs": [
    {
     "output_type": "execute_result",
     "data": {
      "text/plain": [
       "(array([713.55112059,   1.02253626, -69.55754562]),\n",
       " array([62.87780997,  0.24592655, 68.48011527]))"
      ]
     },
     "metadata": {},
     "execution_count": 4
    }
   ],
   "metadata": {}
  },
  {
   "cell_type": "code",
   "execution_count": 5,
   "source": [
    "th = np.linspace(0.1, 2.6, 1000)\n",
    "plt.plot(th, fitfunc(th, *popt1), 'r--')\n",
    "plt.errorbar(x, y, ey, ex, 'bo')\n",
    "plt.grid()\n",
    "\n",
    "plt.xlabel(r'$\\theta_\\gamma (rad)$')\n",
    "plt.ylabel(r'$E_\\gamma ^\\prime (KeV)$')\n",
    "plt.title(r'$E_\\gamma ^\\prime (\\theta\\gamma )$')\n",
    "\n",
    "plt.legend(['Fit Function', 'Experimental Data'])\n",
    "plt.savefig('energyplot.png', dpi=500)"
   ],
   "outputs": [
    {
     "output_type": "display_data",
     "data": {
      "image/png": "[encoded data removed]",
      "text/plain": [
       "<Figure size 432x288 with 1 Axes>"
      ]
     },
     "metadata": {
      "needs_background": "light"
     }
    }
   ],
   "metadata": {}
  },
  {
   "cell_type": "code",
   "execution_count": 6,
   "source": [
    "def intensityfunc (x, a, e, b):\n",
    "\t#return a*(1/(1+e*(1-np.cos(x))))**2 * (1+np.cos(x)**2)/2 * (1+ (e**2*(1-np.cos(x))**2)/(  (1+np.cos(x)**2)  *  (1 + e*(1-np.cos(x))) ))\n",
    "\n",
    "\n",
    "\treturn a * (1+e*(1-np.cos(x)))**(-2)/2 * (1+np.cos(x)**2) * (1 + (e**2 *(1-np.cos(x))**2)/((1+np.cos(x)**2)*(1+e*(1-np.cos(x))))) + b"
   ],
   "outputs": [],
   "metadata": {}
  },
  {
   "cell_type": "code",
   "execution_count": 7,
   "source": [
    "intensitydata = np.loadtxt('intensity.data')"
   ],
   "outputs": [],
   "metadata": {}
  },
  {
   "cell_type": "code",
   "execution_count": 8,
   "source": [
    "popt2, pcov2 = curve_fit(intensityfunc, x, intensitydata, p0=(20, 1.2955, 0))\n",
    "popt2\n",
    "plt.errorbar(x, intensitydata,ex, ex, 'bo')\n",
    "plt.plot(th, intensityfunc(th, *popt2), 'r--')\n",
    "plt.grid()\n",
    "\n",
    "plt.xlabel(r'$\\theta _\\gamma (rad)$')\n",
    "plt.ylabel(r'$I  \\left(\\frac{counts}{sec}\\right)$')\n",
    "plt.title(r'$I (\\theta_\\gamma )$')\n",
    "\n",
    "plt.legend(['Fit Function', 'Experimental Data'])\n",
    "plt.savefig('intensityplot.png', dpi=500)\n"
   ],
   "outputs": [
    {
     "output_type": "display_data",
     "data": {
      "image/png": "[encoded data removed]",
      "text/plain": [
       "<Figure size 432x288 with 1 Axes>"
      ]
     },
     "metadata": {
      "needs_background": "light"
     }
    }
   ],
   "metadata": {}
  },
  {
   "cell_type": "code",
   "execution_count": 9,
   "source": [
    "print('Energy function fitting results')\n",
    "print(r'Εγ = ',popt1[0], '+/-', np.sqrt(np.diag(pcov1)[0]))\n",
    "print(r'ε = ', popt1[1], '+/-', np.sqrt(np.diag(pcov1)[1]))\n",
    "print('=============================================')\n",
    "print('=============================================')\n",
    "\n",
    "print('Ποσοστιαία απόκλιση Εγ')\n",
    "print(np.abs(662-popt1[0])/662*100, '%')\n",
    "print('=============================================')\n",
    "print('Σχετική Απόκλιση Εγ')\n",
    "print(np.abs(662-popt1[0])/np.sqrt(np.diag(pcov1)[0]), 'σ')\n",
    "print('=============================================')\n",
    "print('Σχετικό σφάλμα Εγ')\n",
    "print(np.sqrt(np.diag(pcov1)[0])/popt1[0]*100, '%')\n",
    "\n",
    "print('=============================================')\n",
    "print('=============================================')\n",
    "\n",
    "print('Ποσοστιαία απόκλιση ε')\n",
    "print(np.abs(1.2955 - popt1[1])/1.2955*100, '%')\n",
    "print('=============================================')\n",
    "print('σχετική απόκλιση ε')\n",
    "print(np.abs(1.2955-popt1[1])/np.sqrt(np.diag(pcov1)[1]),'σ')\n",
    "print('=============================================')\n",
    "print('Σχετικό σφάλμα ε')\n",
    "print(np.sqrt(np.diag(pcov1)[1])/popt1[1]*100,'%')"
   ],
   "outputs": [
    {
     "output_type": "stream",
     "name": "stdout",
     "text": [
      "Energy function fitting results\n",
      "Εγ =  713.5511205947463 +/- 62.87780996918827\n",
      "ε =  1.0225362578765513 +/- 0.2459265527461078\n",
      "=============================================\n",
      "=============================================\n",
      "Ποσοστιαία απόκλιση Εγ\n",
      "7.78717833757497 %\n",
      "=============================================\n",
      "Σχετική Απόκλιση Εγ\n",
      "0.8198618975439452 σ\n",
      "=============================================\n",
      "Σχετικό σφάλμα Εγ\n",
      "8.811955885764638 %\n",
      "=============================================\n",
      "=============================================\n",
      "Ποσοστιαία απόκλιση ε\n",
      "21.0701460535275 %\n",
      "=============================================\n",
      "σχετική απόκλιση ε\n",
      "1.1099400982750076 σ\n",
      "=============================================\n",
      "Σχετικό σφάλμα ε\n",
      "24.050643764633918 %\n"
     ]
    }
   ],
   "metadata": {}
  },
  {
   "cell_type": "code",
   "execution_count": 15,
   "source": [
    "popt2"
   ],
   "outputs": [
    {
     "output_type": "execute_result",
     "data": {
      "text/plain": [
       "array([1.48941617e+09, 3.64510063e+09, 3.45834889e-01])"
      ]
     },
     "metadata": {},
     "execution_count": 15
    }
   ],
   "metadata": {}
  },
  {
   "cell_type": "code",
   "execution_count": 11,
   "source": [
    "print('Ποσοστιαία απόκλιση ε')\n",
    "print(np.abs(1.2955-popt2[1])/1.2955*100)\n",
    "print('Σχετική απόκλιση ε')\n",
    "print(np.abs(1.2955-popt2[1])/np.sqrt(np.diag(pcov2)[1]))"
   ],
   "outputs": [
    {
     "output_type": "stream",
     "name": "stdout",
     "text": [
      "Ποσοστιαία απόκλιση ε\n",
      "281366316216.7456\n",
      "Σχετική απόκλιση ε\n",
      "1.3002983267781557e-07\n"
     ]
    }
   ],
   "metadata": {}
  },
  {
   "cell_type": "code",
   "execution_count": 12,
   "source": [
    "def theorintensity (x):\n",
    "\te=1.2955\n",
    "\treturn 13*(2.82*10**(-13))**2 *  (1+e*(1-np.cos(x)))**(-2)/2 * (1+np.cos(x)**2) * (1 + (e**2 *(1-np.cos(x))**2)/((1+np.cos(x)**2)*(1+e*(1-np.cos(x)))))"
   ],
   "outputs": [],
   "metadata": {}
  },
  {
   "cell_type": "code",
   "execution_count": 13,
   "source": [
    "plt.errorbar(x, intensitydata, ex, ex, 'bo')\n",
    "plt.plot(th, 1.5*10**25 *theorintensity(th), 'r--')\n",
    "plt.xlabel(r'$\\theta _\\gamma (rad)$')\n",
    "plt.ylabel(r'$I  \\left(\\frac{counts}{sec}\\right)$')\n",
    "plt.title(r'$I (\\theta_\\gamma )$')\n",
    "plt.legend(['Theoretical Intensity Function', 'Experimental Data'])\n",
    "plt.grid()\n",
    "plt.savefig('correctintensity.png', dpi=500)"
   ],
   "outputs": [
    {
     "output_type": "display_data",
     "data": {
      "image/png": "[encoded data removed]",
      "text/plain": [
       "<Figure size 432x288 with 1 Axes>"
      ]
     },
     "metadata": {
      "needs_background": "light"
     }
    }
   ],
   "metadata": {}
  },
  {
   "cell_type": "code",
   "execution_count": 14,
   "source": [
    "plt.errorbar(x, intensitydata,ex, ex, 'bo')\n",
    "plt.grid()\n",
    "\n",
    "plt.xlabel(r'$\\theta _\\gamma (rad)$')\n",
    "plt.ylabel(r'$I  \\left(\\frac{counts}{sec}\\right)$')\n",
    "plt.title(r'$I (\\theta_\\gamma )$')\n",
    "\n",
    "plt.legend(['Experimental Data'])\n",
    "plt.savefig('intensityonlyplot.png', dpi=500)"
   ],
   "outputs": [
    {
     "output_type": "display_data",
     "data": {
      "image/png": "[encoded data removed]",
      "text/plain": [
       "<Figure size 432x288 with 1 Axes>"
      ]
     },
     "metadata": {
      "needs_background": "light"
     }
    }
   ],
   "metadata": {}
  }
 ],
 "metadata": {
  "orig_nbformat": 4,
  "language_info": {
   "name": "python",
   "version": "3.8.10",
   "mimetype": "text/x-python",
   "codemirror_mode": {
    "name": "ipython",
    "version": 3
   },
   "pygments_lexer": "ipython3",
   "nbconvert_exporter": "python",
   "file_extension": ".py"
  },
  "kernelspec": {
   "name": "python3",
   "display_name": "Python 3.8.10 64-bit"
  },
  "interpreter": {
   "hash": "31f2aee4e71d21fbe5cf8b01ff0e069b9275f58929596ceb00d14d90e3e16cd6"
  }
 },
 "nbformat": 4,
 "nbformat_minor": 2
}